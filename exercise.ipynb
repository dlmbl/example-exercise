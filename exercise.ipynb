{
 "cells": [
  {
   "cell_type": "markdown",
   "id": "d019a8e4",
   "metadata": {
    "cell_marker": "\"\"\""
   },
   "source": [
    "# Example Exercise\n",
    "This is an example exercise notebook written as a python file and converted to a notebook using jupytext and nbconvert.\n",
    "\n",
    "Please start your exercise with a brief description of the learning objectives and task in the notebook. E.g. in this notebook we are going to train a simple linear classifier to identify if an image contains a dog or a cat. At the end of this exercise, you should be familiar with how to use tensorflow to implement a simple model and how to set up a dataset object.\n",
    "\n",
    "<div class=\"alert alert-warning\">\n",
    "Set your python kernel to <code>000-example-exercise</code>\n",
    "</div>"
   ]
  },
  {
   "cell_type": "code",
   "execution_count": null,
   "id": "2785477b",
   "metadata": {},
   "outputs": [],
   "source": [
    "import numpy as np\n",
    "import matplotlib.pyplot as plt"
   ]
  },
  {
   "cell_type": "markdown",
   "id": "f211893d",
   "metadata": {
    "cell_marker": "\"\"\""
   },
   "source": [
    "Tasks should be clearly numbered and contain an explicit piece of work that the students need to complete.\n",
    "\n",
    "<div class=\"alert alert-info\">\n",
    "Task 1.1\n",
    "\n",
    "Use <code>np.zeros</code> to generate an empty array of zeros with the shape 10x10x2. For more information on this function, check out the <a href=\"https://numpy.org/doc/stable/reference/generated/numpy.zeros.html\">docs</a> or run <code>np.zeros?</code> in a code cell to see the docstring.\n",
    "</div>"
   ]
  },
  {
   "cell_type": "code",
   "execution_count": null,
   "id": "8d322f94",
   "metadata": {},
   "outputs": [],
   "source": [
    "a = ...  # Insert your code for generating an array of zeros here\n",
    "\n",
    "# Check that the shape is correct\n",
    "a.shape"
   ]
  },
  {
   "cell_type": "markdown",
   "id": "eb688029",
   "metadata": {},
   "source": [
    "Solution cells are tagged with \"solution\" and can be removed using `nbconvert`. See the cell below as an example"
   ]
  },
  {
   "cell_type": "code",
   "execution_count": null,
   "id": "649e69ae",
   "metadata": {
    "tag": [
     "solution"
    ]
   },
   "outputs": [],
   "source": [
    "a = np.zeros((10, 10, 2))\n",
    "\n",
    "a.shape"
   ]
  },
  {
   "cell_type": "markdown",
   "id": "740188fb",
   "metadata": {
    "cell_marker": "\"\"\""
   },
   "source": [
    "Checkpoints help us keep track of the students progress and make sure they are moving through the exercise appropriately. You should aim for a checkpoint for each hour of work or each conceptual block. They are a great opportunity to make sure the students understand what has been covered so far and are prepared to move on to the next section.\n",
    "<div class=\"alert alert-success\">\n",
    "Checkpoint 1\n",
    "\n",
    "Post to Element when you have reached checkpoint 1. We will discuss the many wonderful uses of <code>np.zeros</code>.\n",
    "</div>"
   ]
  }
 ],
 "metadata": {
  "jupytext": {
   "cell_metadata_filter": "all",
   "main_language": "python"
  }
 },
 "nbformat": 4,
 "nbformat_minor": 5
}
